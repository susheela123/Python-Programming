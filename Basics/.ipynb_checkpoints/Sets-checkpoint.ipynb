{
 "cells": [
  {
   "cell_type": "markdown",
   "metadata": {},
   "source": [
    "<h1>Sets in Python:</h1>\n",
    "<ul>\n",
    "    <li>Type of collection. </li>\n",
    "    <li>They are unordered unlike lists and tuples i.e., sets do not record element position.</li>\n",
    "    <li>They have unique elements</li>    \n",
    "</ul>"
   ]
  },
  {
   "cell_type": "markdown",
   "metadata": {},
   "source": [
    "## Creating a set"
   ]
  },
  {
   "cell_type": "code",
   "execution_count": 4,
   "metadata": {},
   "outputs": [],
   "source": [
    "set1 = {1,2,3,4,5}"
   ]
  },
  {
   "cell_type": "code",
   "execution_count": 5,
   "metadata": {},
   "outputs": [
    {
     "name": "stdout",
     "output_type": "stream",
     "text": [
      "set2:  {1, 2, 3, 4, 5}\n"
     ]
    }
   ],
   "source": [
    "#set removes any duplicates\n",
    "set2 = {1,1,2,3,3,4,5,5}\n",
    "print(\"set2: \",set2)"
   ]
  },
  {
   "cell_type": "markdown",
   "metadata": {},
   "source": [
    "## Convert a list to set"
   ]
  },
  {
   "cell_type": "code",
   "execution_count": 6,
   "metadata": {},
   "outputs": [
    {
     "name": "stdout",
     "output_type": "stream",
     "text": [
      "Names list:  ['Susheela', 'Sairam']\n",
      "Names after type cast to set:  {'Susheela', 'Sairam'}\n"
     ]
    }
   ],
   "source": [
    "names = [\"Susheela\",\"Sairam\"]\n",
    "print(\"Names list: \",names)\n",
    "print(\"Names after type cast to set: \",set(names))"
   ]
  },
  {
   "cell_type": "markdown",
   "metadata": {},
   "source": [
    "## Set operations"
   ]
  },
  {
   "cell_type": "code",
   "execution_count": 11,
   "metadata": {},
   "outputs": [
    {
     "name": "stdout",
     "output_type": "stream",
     "text": [
      "Set3:  {6, 7, 8, 9, 10}\n",
      "Set 3 after adding 1 element: {1, 6, 7, 8, 9, 10}\n",
      "Set 3 after removing 10 element: {1, 6, 7, 8, 9}\n",
      "Verifying if 10 is in set3 or not:  False\n"
     ]
    }
   ],
   "source": [
    "set3 = {6,7,8,9,10,}\n",
    "print(\"Set3: \",set3)\n",
    "set3.add(1)\n",
    "print(\"Set 3 after adding 1 element:\",set3)\n",
    "set3.remove(10)\n",
    "print(\"Set 3 after removing 10 element:\",set3)\n",
    "print(\"Verifying if 10 is in set3 or not: \",\"10\" in set3)"
   ]
  },
  {
   "cell_type": "markdown",
   "metadata": {},
   "source": [
    "## Mathematical set operations"
   ]
  },
  {
   "cell_type": "code",
   "execution_count": 23,
   "metadata": {},
   "outputs": [
    {
     "name": "stdout",
     "output_type": "stream",
     "text": [
      "{1, 2, 3, 4, 5}\n",
      "{1, 6, 7, 8, 9}\n",
      "Intersection of set1 and set 3:  {1}\n",
      "Intersection of set1 and set 3 using intersection method:  {1}\n",
      "Union of set1 and set 3:  {1, 2, 3, 4, 5, 6, 7, 8, 9}\n",
      "Checking if set3 is subset of set1:  False\n",
      "Checking if set3 is superset of set1:  False\n",
      "Union of set1 and set 3:  {1, 2, 3, 4, 5, 6, 7, 8, 9}\n",
      "Elements in set 1 that are not in set3: {2, 3, 4, 5}\n"
     ]
    }
   ],
   "source": [
    "print(set1)\n",
    "print(set3)\n",
    "print(\"Intersection of set1 and set 3: \",set1&set3)\n",
    "print(\"Intersection of set1 and set 3 using intersection method: \",set1.intersection(set3))\n",
    "print(\"Union of set1 and set 3: \",set1.union(set3))\n",
    "print(\"Checking if set3 is subset of set1: \", set1.issubset(set3))\n",
    "print(\"Checking if set3 is superset of set1: \", set1.issuperset(set3))\n",
    "print(\"Union of set1 and set 3: \",set1.union(set3))\n",
    "print(\"Elements in set 1 that are not in set3:\",set1.difference(set3))"
   ]
  },
  {
   "cell_type": "code",
   "execution_count": null,
   "metadata": {},
   "outputs": [],
   "source": []
  }
 ],
 "metadata": {
  "kernelspec": {
   "display_name": "Python 3",
   "language": "python",
   "name": "python3"
  },
  "language_info": {
   "codemirror_mode": {
    "name": "ipython",
    "version": 3
   },
   "file_extension": ".py",
   "mimetype": "text/x-python",
   "name": "python",
   "nbconvert_exporter": "python",
   "pygments_lexer": "ipython3",
   "version": "3.8.3"
  }
 },
 "nbformat": 4,
 "nbformat_minor": 4
}
